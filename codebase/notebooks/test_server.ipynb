{
 "cells": [
  {
   "cell_type": "code",
   "execution_count": 9,
   "id": "a7b413b4",
   "metadata": {},
   "outputs": [],
   "source": [
    "import os\n",
    "import sys\n",
    "import numpy as np \n",
    "import threading\n",
    "import time\n",
    "import signal\n",
    "import pandas as pd\n",
    "import copy\n",
    "\n",
    "module_path = os.path.abspath(\"../\")\n",
    "sys.path.append(module_path)\n",
    "module_path = os.path.abspath(\"../ift6758/client\")\n",
    "sys.path.append(module_path)\n",
    "\n",
    "from serving_client import ServingClient\n",
    "from game_client import GameClient\n"
   ]
  },
  {
   "cell_type": "code",
   "execution_count": 2,
   "id": "83c4e418",
   "metadata": {},
   "outputs": [],
   "source": [
    "ip = '127.0.0.1'\n",
    "port = '30000'\n",
    "            \n",
    "workspace = 'ds-team-9'\n",
    "# model_name -> 'XGBoost', 'best-hist-gradient-boosting', 'logistic-regression-shot-angle', \n",
    "#               'logistic-regression-shot-distance', 'logistic-regression-shot-distance-and-angle'\n",
    "model_name = 'XGBoost'\n",
    "version = '1.0.0'\n",
    "\n",
    "features = ['team', 'game_seconds', 'period', 'coord_x', 'coord_y', 'shot_distance']"
   ]
  },
  {
   "cell_type": "code",
   "execution_count": 3,
   "id": "148ee489",
   "metadata": {},
   "outputs": [],
   "source": [
    "game_client = GameClient()\n",
    "serving_client = ServingClient(ip, port, features)"
   ]
  },
  {
   "cell_type": "code",
   "execution_count": 4,
   "id": "2c656ef4",
   "metadata": {},
   "outputs": [],
   "source": [
    "# For testing it is better to run the test.py file on the terminal so that you can stop the thread by \"control+c\"\n",
    "\n",
    "exit_event = threading.Event()\n",
    "\n",
    "def get_live_data(game_id, features):\n",
    "    res_features = copy.deepcopy(features)\n",
    "    res_features.append('prediction')\n",
    "    res_features.append('label')\n",
    "    predicted_df = pd.DataFrame(columns=res_features)\n",
    "    df_index = 0\n",
    "    while not game_client.get_game_status(game_id)[0] == 'FINAL':\n",
    "        game_df = game_client.get_game_df(game_id)\n",
    "        if len(game_df) > df_index:\n",
    "            result_df = game_df.loc[(game_df.index >= df_index)]\n",
    "            #print(result_df)\n",
    "            result = serving_client.predict(result_df)\n",
    "            print(result)\n",
    "            predicted_df = pd.concat([predicted_df, result], axis=0)\n",
    "            #print(len(predicted_df))\n",
    "            df_index = len(predicted_df)\n",
    "            #print(predicted_df)\n",
    "        time.sleep(60)\n",
    "        \n",
    "        if exit_event.is_set():\n",
    "            break\n",
    "            \n",
    "def signal_handler(signum, frame):\n",
    "    exit_event.set()"
   ]
  },
  {
   "cell_type": "code",
   "execution_count": 5,
   "id": "5151a6e4",
   "metadata": {},
   "outputs": [
    {
     "data": {
      "text/plain": [
       "{'workspace': 'ds-team-9', 'model_name': 'XGBoost', 'version': '1.0.0'}"
      ]
     },
     "execution_count": 5,
     "metadata": {},
     "output_type": "execute_result"
    }
   ],
   "source": [
    "serving_client.download_registry_model(workspace, model_name, version)"
   ]
  },
  {
   "cell_type": "code",
   "execution_count": 6,
   "id": "0f498844",
   "metadata": {},
   "outputs": [
    {
     "data": {
      "text/plain": [
       "[{'Home_Team': 'Florida Panthers',\n",
       "  'Away_Team': 'New Jersey Devils',\n",
       "  'Game_ID': 2022020518,\n",
       "  'Game_Status': ('live',\n",
       "   {'Home_Team': 'Florida Panthers',\n",
       "    'Away_Team': 'New Jersey Devils',\n",
       "    'Game_ID': 2022020518,\n",
       "    'Game_Status': ('2nd', '00:00')})},\n",
       " {'Home_Team': 'Detroit Red Wings',\n",
       "  'Away_Team': 'Tampa Bay Lightning',\n",
       "  'Game_ID': 2022020519,\n",
       "  'Game_Status': ('live',\n",
       "   {'Home_Team': 'Detroit Red Wings',\n",
       "    'Away_Team': 'Tampa Bay Lightning',\n",
       "    'Game_ID': 2022020519,\n",
       "    'Game_Status': ('2nd', '00:00')})},\n",
       " {'Home_Team': 'Colorado Avalanche',\n",
       "  'Away_Team': 'Montréal Canadiens',\n",
       "  'Game_ID': 2022020520,\n",
       "  'Game_Status': ('live',\n",
       "   {'Home_Team': 'Colorado Avalanche',\n",
       "    'Away_Team': 'Montréal Canadiens',\n",
       "    'Game_ID': 2022020520,\n",
       "    'Game_Status': ('1st', '00:00')})},\n",
       " {'Home_Team': 'Chicago Blackhawks',\n",
       "  'Away_Team': 'Nashville Predators',\n",
       "  'Game_ID': 2022020521,\n",
       "  'Game_Status': ('live',\n",
       "   {'Home_Team': 'Chicago Blackhawks',\n",
       "    'Away_Team': 'Nashville Predators',\n",
       "    'Game_ID': 2022020521,\n",
       "    'Game_Status': ('1st', '08:02')})},\n",
       " {'Home_Team': 'Dallas Stars',\n",
       "  'Away_Team': 'Edmonton Oilers',\n",
       "  'Game_ID': 2022020522,\n",
       "  'Game_Status': ('Preview', '9 :30 PM')},\n",
       " {'Home_Team': 'Vegas Golden Knights',\n",
       "  'Away_Team': 'Arizona Coyotes',\n",
       "  'Game_ID': 2022020523,\n",
       "  'Game_Status': ('Preview', '10 :00 PM')},\n",
       " {'Home_Team': 'Anaheim Ducks',\n",
       "  'Away_Team': 'Minnesota Wild',\n",
       "  'Game_ID': 2022020524,\n",
       "  'Game_Status': ('Preview', '10 :00 PM')}]"
      ]
     },
     "execution_count": 6,
     "metadata": {},
     "output_type": "execute_result"
    }
   ],
   "source": [
    "today_games = game_client.get_today_games()\n",
    "\n",
    "games_list = []\n",
    "for game in today_games['dates'][0]['games']:\n",
    "    games_list.append(game_client.get_game(game))\n",
    "    \n",
    "games_list"
   ]
  },
  {
   "cell_type": "code",
   "execution_count": 7,
   "id": "9d66f050",
   "metadata": {},
   "outputs": [],
   "source": [
    "#game_id = 2022020485\n",
    "game_id = 2022020519"
   ]
  },
  {
   "cell_type": "code",
   "execution_count": null,
   "id": "956b6d31",
   "metadata": {},
   "outputs": [
    {
     "name": "stdout",
     "output_type": "stream",
     "text": [
      "{'Home_Team': 'Detroit Red Wings', 'Away_Team': 'Tampa Bay Lightning', 'Game_ID': 2022020519, 'Game_Status': ('2nd', '00:00')}\n",
      "Processing games...\n"
     ]
    },
    {
     "name": "stderr",
     "output_type": "stream",
     "text": [
      "100%|████████████████████████████████████████████| 1/1 [00:00<00:00, 377.08it/s]"
     ]
    },
    {
     "name": "stdout",
     "output_type": "stream",
     "text": [
      "                   team  game_seconds  period  coord_x  coord_y  \\\n",
      "0   Tampa Bay Lightning      0.400000       1     74.0     24.0   \n",
      "1   Tampa Bay Lightning      1.483333       1     68.0    -20.0   \n",
      "2   Tampa Bay Lightning      2.366667       1     32.0     14.0   \n",
      "3   Tampa Bay Lightning      2.483333       1     74.0     36.0   \n",
      "4   Tampa Bay Lightning      3.216667       1     55.0     18.0   \n",
      "5   Tampa Bay Lightning      4.033333       1     75.0    -18.0   \n",
      "6   Tampa Bay Lightning      4.716667       1     62.0      1.0   \n",
      "7   Tampa Bay Lightning      4.900000       1     64.0     -9.0   \n",
      "8   Tampa Bay Lightning      5.016667       1     55.0      3.0   \n",
      "9   Tampa Bay Lightning      5.100000       1     58.0     -4.0   \n",
      "10  Tampa Bay Lightning      5.266667       1     39.0    -23.0   \n",
      "11    Detroit Red Wings      6.400000       1    -66.0    -33.0   \n",
      "12    Detroit Red Wings      7.783333       1    -68.0    -15.0   \n",
      "13    Detroit Red Wings      8.083333       1    -74.0    -34.0   \n",
      "14    Detroit Red Wings      8.250000       1    -72.0     32.0   \n",
      "15    Detroit Red Wings      8.266667       1    -70.0      0.0   \n",
      "16    Detroit Red Wings     10.450000       1    -55.0     17.0   \n",
      "17    Detroit Red Wings     11.433333       1    -88.0     -5.0   \n",
      "18  Tampa Bay Lightning     11.633333       1    -60.0     38.0   \n",
      "19  Tampa Bay Lightning     13.066667       1     53.0     18.0   \n",
      "20    Detroit Red Wings     13.750000       1    -66.0     -4.0   \n",
      "21    Detroit Red Wings     15.133333       1    -33.0      0.0   \n",
      "22    Detroit Red Wings     15.166667       1    -89.0     -7.0   \n",
      "23    Detroit Red Wings     15.333333       1    -86.0     -4.0   \n",
      "24    Detroit Red Wings     15.566667       1    -82.0      7.0   \n",
      "25    Detroit Red Wings     17.033333       1    -81.0      2.0   \n",
      "26  Tampa Bay Lightning     17.450000       1     38.0     39.0   \n",
      "27    Detroit Red Wings     17.750000       1    -51.0     31.0   \n",
      "28  Tampa Bay Lightning     18.566667       1     61.0    -27.0   \n",
      "29  Tampa Bay Lightning     18.616667       1     83.0     -3.0   \n",
      "30  Tampa Bay Lightning     18.633333       1     84.0    -10.0   \n",
      "31    Detroit Red Wings     19.533333       1    -67.0     -7.0   \n",
      "32    Detroit Red Wings     20.516667       2     59.0    -38.0   \n",
      "33  Tampa Bay Lightning     23.216667       2    -86.0     -5.0   \n",
      "34    Detroit Red Wings     23.966667       2     22.0     41.0   \n",
      "35    Detroit Red Wings     25.733333       2     72.0      3.0   \n",
      "36  Tampa Bay Lightning     26.350000       2    -72.0     18.0   \n",
      "37  Tampa Bay Lightning     26.616667       2    -78.0    -12.0   \n",
      "38  Tampa Bay Lightning     26.850000       2    -67.0     -3.0   \n",
      "39  Tampa Bay Lightning     27.400000       2    -85.0     -8.0   \n",
      "40  Tampa Bay Lightning     28.516667       2    -83.0      6.0   \n",
      "41    Detroit Red Wings     28.600000       2    -91.0     13.0   \n",
      "42  Tampa Bay Lightning     28.966667       2    -35.0    -37.0   \n",
      "43    Detroit Red Wings     30.666667       2     65.0    -30.0   \n",
      "44    Detroit Red Wings     31.133333       2     69.0     27.0   \n",
      "45  Tampa Bay Lightning     33.250000       2    -78.0      2.0   \n",
      "46    Detroit Red Wings     33.450000       2    -95.0     18.0   \n",
      "47    Detroit Red Wings     33.550000       2     36.0     34.0   \n",
      "48  Tampa Bay Lightning     33.783333       2    -58.0     -8.0   \n",
      "49  Tampa Bay Lightning     34.800000       2    -80.0      2.0   \n",
      "50  Tampa Bay Lightning     39.350000       2    -46.0     -2.0   \n",
      "\n",
      "    shot_distance  prediction  preds_prob  label  \n",
      "0           28.30           0    0.041397      0  \n",
      "1           29.00           0    0.085980      1  \n",
      "2           58.69           0    0.030900      0  \n",
      "3           39.00           0    0.017556      0  \n",
      "4           38.47           0    0.147019      0  \n",
      "5           22.80           0    0.068606      0  \n",
      "6           27.02           0    0.118959      0  \n",
      "7           26.57           0    0.093426      0  \n",
      "8           34.13           0    0.080834      0  \n",
      "9           31.26           0    0.106707      0  \n",
      "10          55.04           0    0.030080      0  \n",
      "11          40.22           0    0.026614      0  \n",
      "12          25.81           0    0.109417      0  \n",
      "13          37.16           0    0.013984      0  \n",
      "14          36.24           0    0.048366      0  \n",
      "15          19.00           0    0.259450      0  \n",
      "16          38.01           0    0.059934      0  \n",
      "17           5.10           0    0.088080      0  \n",
      "18         153.77           0    0.006959      0  \n",
      "19          40.25           0    0.053581      0  \n",
      "20          23.35           0    0.051793      0  \n",
      "21          56.00           0    0.065562      0  \n",
      "22           7.00           0    0.139385      0  \n",
      "23           5.00           0    0.341677      0  \n",
      "24           9.90           0    0.242770      1  \n",
      "25           8.25           0    0.193548      0  \n",
      "26          64.20           0    0.011652      0  \n",
      "27          49.04           0    0.046542      0  \n",
      "28          38.90           0    0.047708      0  \n",
      "29           6.71           0    0.220923      0  \n",
      "30          11.18           0    0.190687      1  \n",
      "31          23.09           0    0.140045      1  \n",
      "32          48.41           0    0.012501      0  \n",
      "33           5.83           0    0.125685      0  \n",
      "34          78.55           0    0.017020      0  \n",
      "35          17.26           0    0.277961      0  \n",
      "36          24.76           0    0.080527      0  \n",
      "37          16.28           0    0.065299      0  \n",
      "38          22.20           0    0.130708      0  \n",
      "39           8.94           0    0.065046      0  \n",
      "40           8.49           0    0.079513      0  \n",
      "41         180.47           0    0.025379      0  \n",
      "42          65.46           0    0.021856      0  \n",
      "43          38.42           0    0.032992      0  \n",
      "44          33.60           0    0.024063      1  \n",
      "45          11.18           0    0.344595      1  \n",
      "46         184.88           0    0.008512      0  \n",
      "47          62.97           0    0.022928      0  \n",
      "48          32.02           0    0.084710      0  \n",
      "49           9.22           0    0.280330      0  \n",
      "50          43.05           0    0.051417      0  \n"
     ]
    },
    {
     "name": "stderr",
     "output_type": "stream",
     "text": [
      "\n",
      "\n",
      "A value is trying to be set on a copy of a slice from a DataFrame.\n",
      "Try using .loc[row_indexer,col_indexer] = value instead\n",
      "\n",
      "See the caveats in the documentation: https://pandas.pydata.org/pandas-docs/stable/user_guide/indexing.html#returning-a-view-versus-a-copy\n",
      "\n",
      "A value is trying to be set on a copy of a slice from a DataFrame.\n",
      "Try using .loc[row_indexer,col_indexer] = value instead\n",
      "\n",
      "See the caveats in the documentation: https://pandas.pydata.org/pandas-docs/stable/user_guide/indexing.html#returning-a-view-versus-a-copy\n",
      "\n",
      "A value is trying to be set on a copy of a slice from a DataFrame.\n",
      "Try using .loc[row_indexer,col_indexer] = value instead\n",
      "\n",
      "See the caveats in the documentation: https://pandas.pydata.org/pandas-docs/stable/user_guide/indexing.html#returning-a-view-versus-a-copy\n"
     ]
    },
    {
     "name": "stdout",
     "output_type": "stream",
     "text": [
      "Processing games...\n"
     ]
    },
    {
     "name": "stderr",
     "output_type": "stream",
     "text": [
      "100%|████████████████████████████████████████████| 1/1 [00:00<00:00, 485.68it/s]\n"
     ]
    }
   ],
   "source": [
    "if game_client.get_game_status(game_id)[0] == 'FINAL':\n",
    "    print(game_client.get_game_status(game_id)[1])\n",
    "    game_df = game_client.get_game_df(game_id)\n",
    "    result = serving_client.predict(game_df)\n",
    "elif game_client.get_game_status(game_id)[0] == 'Preview':\n",
    "    print(\"Game not started yet\")\n",
    "elif game_client.get_game_status(game_id)[0] == 'live':\n",
    "    print(game_client.get_game_status(game_id)[1])\n",
    "    signal.signal(signal.SIGINT, signal_handler)\n",
    "    th = threading.Thread(target=get_live_data, args=(game_id,features))\n",
    "    th.start()\n",
    "    th.join()"
   ]
  },
  {
   "cell_type": "code",
   "execution_count": null,
   "id": "62342020",
   "metadata": {},
   "outputs": [],
   "source": [
    "def get_live_data(game_id, features):\n",
    "    res_features = features\n",
    "    res_features.append('prediction')\n",
    "    res_features.append('label')\n",
    "    predicted_df = pd.DataFrame(columns=res_features)\n",
    "    df_index = 0\n",
    "    while not game_client.get_game_status(game_id)[0] == 'FINAL':\n",
    "        game_df = game_client.get_game_df(game_id)\n",
    "        if len(game_df) > df_index:\n",
    "            result_df = game_df.loc[(game_df.index >= df_index)]\n",
    "            #print(result_df)\n",
    "            result = serving_client.predict(result_df)\n",
    "            print(result)\n",
    "            predicted_df = pd.concat([predicted_df, result], axis=0)\n",
    "            #print(len(predicted_df))\n",
    "            df_index = len(predicted_df)\n",
    "            #print(predicted_df)\n",
    "        time.sleep(60)\n"
   ]
  },
  {
   "cell_type": "code",
   "execution_count": null,
   "id": "0f712f47",
   "metadata": {},
   "outputs": [],
   "source": [
    "get_live_data(game_id,features)"
   ]
  },
  {
   "cell_type": "code",
   "execution_count": null,
   "id": "89adb8b6",
   "metadata": {},
   "outputs": [],
   "source": []
  }
 ],
 "metadata": {
  "kernelspec": {
   "display_name": "Python 3 (ipykernel)",
   "language": "python",
   "name": "python3"
  },
  "language_info": {
   "codemirror_mode": {
    "name": "ipython",
    "version": 3
   },
   "file_extension": ".py",
   "mimetype": "text/x-python",
   "name": "python",
   "nbconvert_exporter": "python",
   "pygments_lexer": "ipython3",
   "version": "3.9.7"
  }
 },
 "nbformat": 4,
 "nbformat_minor": 5
}
